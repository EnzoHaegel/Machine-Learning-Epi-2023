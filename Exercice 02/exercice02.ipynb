{
 "cells": [
  {
   "cell_type": "markdown",
   "metadata": {},
   "source": [
    "# Defining a Custom Dissimilarity Metric for Mixed Data Types\n",
    "\n",
    "In this Jupyter notebook, we will define and compute a custom dissimilarity metric for a dataset containing both numerical and categorical features. Our goal is to accurately measure the dissimilarity between samples, taking into account the relative importance of each feature.\n",
    "\n",
    "## Dataset Overview\n",
    "\n",
    "First, let's load the dataset and take a quick look at its structure and contents.\n",
    "\n"
   ]
  },
  {
   "cell_type": "code",
   "execution_count": 24,
   "metadata": {},
   "outputs": [],
   "source": [
    "import pandas as pd\n",
    "import numpy as np\n",
    "from sklearn.preprocessing import MinMaxScaler"
   ]
  },
  {
   "cell_type": "code",
   "execution_count": 25,
   "metadata": {},
   "outputs": [
    {
     "data": {
      "text/html": [
       "<div>\n",
       "<style scoped>\n",
       "    .dataframe tbody tr th:only-of-type {\n",
       "        vertical-align: middle;\n",
       "    }\n",
       "\n",
       "    .dataframe tbody tr th {\n",
       "        vertical-align: top;\n",
       "    }\n",
       "\n",
       "    .dataframe thead th {\n",
       "        text-align: right;\n",
       "    }\n",
       "</style>\n",
       "<table border=\"1\" class=\"dataframe\">\n",
       "  <thead>\n",
       "    <tr style=\"text-align: right;\">\n",
       "      <th></th>\n",
       "      <th>Unnamed: 0</th>\n",
       "      <th>age</th>\n",
       "      <th>height</th>\n",
       "      <th>job</th>\n",
       "      <th>city</th>\n",
       "      <th>favorite music style</th>\n",
       "    </tr>\n",
       "  </thead>\n",
       "  <tbody>\n",
       "    <tr>\n",
       "      <th>0</th>\n",
       "      <td>0</td>\n",
       "      <td>30.237071</td>\n",
       "      <td>179.874298</td>\n",
       "      <td>designer</td>\n",
       "      <td>paris</td>\n",
       "      <td>trap</td>\n",
       "    </tr>\n",
       "    <tr>\n",
       "      <th>1</th>\n",
       "      <td>1</td>\n",
       "      <td>27.915796</td>\n",
       "      <td>172.659587</td>\n",
       "      <td>fireman</td>\n",
       "      <td>marseille</td>\n",
       "      <td>hiphop</td>\n",
       "    </tr>\n",
       "    <tr>\n",
       "      <th>2</th>\n",
       "      <td>2</td>\n",
       "      <td>32.205338</td>\n",
       "      <td>181.337491</td>\n",
       "      <td>teacher</td>\n",
       "      <td>paris</td>\n",
       "      <td>metal</td>\n",
       "    </tr>\n",
       "    <tr>\n",
       "      <th>3</th>\n",
       "      <td>3</td>\n",
       "      <td>26.595215</td>\n",
       "      <td>172.337885</td>\n",
       "      <td>designer</td>\n",
       "      <td>toulouse</td>\n",
       "      <td>metal</td>\n",
       "    </tr>\n",
       "    <tr>\n",
       "      <th>4</th>\n",
       "      <td>4</td>\n",
       "      <td>27.394780</td>\n",
       "      <td>182.708030</td>\n",
       "      <td>teacher</td>\n",
       "      <td>paris</td>\n",
       "      <td>metal</td>\n",
       "    </tr>\n",
       "  </tbody>\n",
       "</table>\n",
       "</div>"
      ],
      "text/plain": [
       "   Unnamed: 0        age      height       job       city favorite music style\n",
       "0           0  30.237071  179.874298  designer      paris                 trap\n",
       "1           1  27.915796  172.659587   fireman  marseille               hiphop\n",
       "2           2  32.205338  181.337491   teacher      paris                metal\n",
       "3           3  26.595215  172.337885  designer   toulouse                metal\n",
       "4           4  27.394780  182.708030   teacher      paris                metal"
      ]
     },
     "execution_count": 25,
     "metadata": {},
     "output_type": "execute_result"
    }
   ],
   "source": [
    "# Load the dataset\n",
    "df = pd.read_csv('./dataset.csv')\n",
    "df.head()"
   ]
  },
  {
   "cell_type": "markdown",
   "metadata": {},
   "source": [
    "## Custom Metric Definition\n",
    "\n",
    "Given that our dataset contains both numerical and categorical data, we cannot directly apply a standard Euclidean metric. Instead, we need to define a hybrid metric that considers the different nature of the features.\n",
    "\n",
    "### Feature Importance\n",
    "\n",
    "- Numerical features: These will contribute to the dissimilarity based on their scaled difference.\n",
    "- Categorical features: We will use a simple matching coefficient, where dissimilarity is 0 if the categories match, and a fixed positive value otherwise.\n",
    "\n",
    "We will also define which features are more important based on domain knowledge or feature relevance.\n",
    "\n"
   ]
  },
  {
   "cell_type": "markdown",
   "metadata": {},
   "source": [
    "### Let's check the music genre\n",
    "\n",
    "The DataFrame contains the following unique music styles:"
   ]
  },
  {
   "cell_type": "code",
   "execution_count": 26,
   "metadata": {},
   "outputs": [
    {
     "name": "stdout",
     "output_type": "stream",
     "text": [
      "Unique music styles in the DataFrame:\n",
      "trap\n",
      "hiphop\n",
      "metal\n",
      "rock\n",
      "rap\n",
      "classical\n",
      "other\n",
      "jazz\n",
      "technical death metal\n"
     ]
    }
   ],
   "source": [
    "unique_music_styles = df['favorite music style'].unique()\n",
    "\n",
    "print(\"Unique music styles in the DataFrame:\")\n",
    "for music_style in unique_music_styles:\n",
    "    print(music_style)"
   ]
  },
  {
   "cell_type": "markdown",
   "metadata": {},
   "source": [
    "### Music Genre Dissimilarity\n",
    "\n",
    "To analyze the dissimilarity between different music genres, a mapping from music style to numerical values is used. The closer the numbers are, the more similar the genres are considered to be. Here is the mapping:\n"
   ]
  },
  {
   "cell_type": "code",
   "execution_count": 27,
   "metadata": {},
   "outputs": [
    {
     "name": "stdout",
     "output_type": "stream",
     "text": [
      "1\n",
      "1.9000000000000004\n"
     ]
    }
   ],
   "source": [
    "music_style_values = {\n",
    "    'trap': 1,\n",
    "    'hiphop': 2,\n",
    "    'rap': 2,\n",
    "    'rock': 3,\n",
    "    'metal': 4,\n",
    "    'technical death metal': 4.1,\n",
    "    'jazz': 5,\n",
    "    'classical': 6,\n",
    "    'other': 7\n",
    "}\n",
    "\n",
    "def music_style_dissimilarity(style1, style2):\n",
    "    value1 = music_style_values.get(style1, 7)\n",
    "    value2 = music_style_values.get(style2, 7)\n",
    "    return abs(value1 - value2)\n",
    "\n",
    "print(music_style_dissimilarity('trap', 'hiphop'))  # Expected to be low\n",
    "print(music_style_dissimilarity('classical', 'technical death metal'))  # Expected to be higher"
   ]
  },
  {
   "cell_type": "code",
   "execution_count": 28,
   "metadata": {},
   "outputs": [],
   "source": [
    "# Define numerical and categorical columns\n",
    "columns_numerical = ['age', 'height']\n",
    "columns_categorical = ['job', 'city']\n",
    "music_column = 'favorite music style'\n",
    "\n",
    "# Fit a scaler based on the numerical columns of the dataframe\n",
    "scaler = MinMaxScaler()\n",
    "df_numerical = df[columns_numerical]\n",
    "scaler.fit(df_numerical)\n",
    "df_scaled = scaler.transform(df_numerical)\n",
    "\n",
    "# Create a dissimilarity function that operates on the scaled data\n",
    "def custom_dissimilarity(index1, index2, df_scaled, df):\n",
    "    dissimilarity = 0\n",
    "    for col_num in range(df_scaled.shape[1]):\n",
    "        dissimilarity += abs(df_scaled[index1, col_num] - df_scaled[index2, col_num])\n",
    "\n",
    "    for col in columns_categorical:\n",
    "        if df.iloc[index1][col] != df.iloc[index2][col]:\n",
    "            dissimilarity += 1\n",
    "\n",
    "    # Include music style dissimilarity\n",
    "    music_dissim = music_style_dissimilarity(df.iloc[index1][music_column], df.iloc[index2][music_column])\n",
    "    dissimilarity += music_dissim\n",
    "\n",
    "    return dissimilarity"
   ]
  },
  {
   "cell_type": "markdown",
   "metadata": {},
   "source": [
    "## Computing Dissimilarities\n",
    "\n",
    "Now, we will apply our custom metric to compute the dissimilarities between all pairs of samples in the dataset.\n"
   ]
  },
  {
   "cell_type": "code",
   "execution_count": 29,
   "metadata": {},
   "outputs": [],
   "source": [
    "dissimilarity_matrix = np.zeros((len(df), len(df)))\n",
    "for i in range(len(df)):\n",
    "    for j in range(i + 1, len(df)):\n",
    "        dissimilarity_matrix[i, j] = custom_dissimilarity(i, j, df_scaled, df)\n",
    "        dissimilarity_matrix[j, i] = dissimilarity_matrix[i, j]\n",
    "np.save('dissimilarity_matrix.npy', dissimilarity_matrix)"
   ]
  },
  {
   "cell_type": "markdown",
   "metadata": {},
   "source": [
    "## Analyzing the Dissimilarity Distribution\n",
    "\n",
    "We will compute the mean and standard deviation of the dissimilarities to understand the distribution.\n",
    "\n"
   ]
  },
  {
   "cell_type": "code",
   "execution_count": 30,
   "metadata": {},
   "outputs": [
    {
     "name": "stdout",
     "output_type": "stream",
     "text": [
      "Mean Dissimilarity: 4.165459750473434\n",
      "Standard Deviation of Dissimilarity: 1.7079158102693894\n"
     ]
    }
   ],
   "source": [
    "# Calculate the mean and standard deviation of dissimilarities\n",
    "mean_dissimilarity = np.mean(dissimilarity_matrix)\n",
    "std_dissimilarity = np.std(dissimilarity_matrix)\n",
    "\n",
    "print(f\"Mean Dissimilarity: {mean_dissimilarity}\")\n",
    "print(f\"Standard Deviation of Dissimilarity: {std_dissimilarity}\")\n"
   ]
  },
  {
   "cell_type": "markdown",
   "metadata": {},
   "source": [
    "## Conclusion\n",
    "\n",
    "- **Mean Dissimilarity**: 4.1655  \n",
    "  The average dissimilarity reflects a diverse dataset, indicating varied sample characteristics.\n",
    "\n",
    "- **Standard Deviation of Dissimilarity**: 1.7079  \n",
    "  This suggests a wide range of differences among the samples, pointing to a heterogenous dataset.\n",
    "\n",
    "The dissimilarity values highlight the richness of the dataset's features, especially in music preferences, where genres have nuanced differences. This is critical for personalized applications like recommendations.\n"
   ]
  }
 ],
 "metadata": {
  "kernelspec": {
   "display_name": "Python 3.9.0 ('SML_EPI_23': venv)",
   "language": "python",
   "name": "python3"
  },
  "language_info": {
   "codemirror_mode": {
    "name": "ipython",
    "version": 3
   },
   "file_extension": ".py",
   "mimetype": "text/x-python",
   "name": "python",
   "nbconvert_exporter": "python",
   "pygments_lexer": "ipython3",
   "version": "3.9.0"
  },
  "orig_nbformat": 4,
  "vscode": {
   "interpreter": {
    "hash": "76e6327f94e46d8a3543433e0c8750bb9e9dde6648fc4f3287a8ceb80f2c01d2"
   }
  }
 },
 "nbformat": 4,
 "nbformat_minor": 2
}
